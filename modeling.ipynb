{
 "cells": [
  {
   "cell_type": "markdown",
   "id": "ad0fda73",
   "metadata": {},
   "source": [
    "# Clustering with the Iris Dataset"
   ]
  },
  {
   "cell_type": "code",
   "execution_count": 1,
   "id": "796bfd74",
   "metadata": {},
   "outputs": [],
   "source": [
    "import warnings\n",
    "warnings.filterwarnings('ignore')\n",
    "\n",
    "import numpy as np\n",
    "import pandas as pd\n",
    "import seaborn as sns\n",
    "import matplotlib.pyplot as plt\n",
    "\n",
    "from sklearn.model_selection import train_test_split\n",
    "from sklearn.cluster import KMeans\n",
    "\n",
    "from pydataset import data"
   ]
  },
  {
   "cell_type": "code",
   "execution_count": 2,
   "id": "da4a4ffb",
   "metadata": {},
   "outputs": [
    {
     "data": {
      "text/html": [
       "<div>\n",
       "<style scoped>\n",
       "    .dataframe tbody tr th:only-of-type {\n",
       "        vertical-align: middle;\n",
       "    }\n",
       "\n",
       "    .dataframe tbody tr th {\n",
       "        vertical-align: top;\n",
       "    }\n",
       "\n",
       "    .dataframe thead th {\n",
       "        text-align: right;\n",
       "    }\n",
       "</style>\n",
       "<table border=\"1\" class=\"dataframe\">\n",
       "  <thead>\n",
       "    <tr style=\"text-align: right;\">\n",
       "      <th></th>\n",
       "      <th>Sepal.Length</th>\n",
       "      <th>Sepal.Width</th>\n",
       "      <th>Petal.Length</th>\n",
       "      <th>Petal.Width</th>\n",
       "      <th>Species</th>\n",
       "    </tr>\n",
       "  </thead>\n",
       "  <tbody>\n",
       "    <tr>\n",
       "      <th>1</th>\n",
       "      <td>5.1</td>\n",
       "      <td>3.5</td>\n",
       "      <td>1.4</td>\n",
       "      <td>0.2</td>\n",
       "      <td>setosa</td>\n",
       "    </tr>\n",
       "    <tr>\n",
       "      <th>2</th>\n",
       "      <td>4.9</td>\n",
       "      <td>3.0</td>\n",
       "      <td>1.4</td>\n",
       "      <td>0.2</td>\n",
       "      <td>setosa</td>\n",
       "    </tr>\n",
       "    <tr>\n",
       "      <th>3</th>\n",
       "      <td>4.7</td>\n",
       "      <td>3.2</td>\n",
       "      <td>1.3</td>\n",
       "      <td>0.2</td>\n",
       "      <td>setosa</td>\n",
       "    </tr>\n",
       "  </tbody>\n",
       "</table>\n",
       "</div>"
      ],
      "text/plain": [
       "   Sepal.Length  Sepal.Width  Petal.Length  Petal.Width Species\n",
       "1           5.1          3.5           1.4          0.2  setosa\n",
       "2           4.9          3.0           1.4          0.2  setosa\n",
       "3           4.7          3.2           1.3          0.2  setosa"
      ]
     },
     "execution_count": 2,
     "metadata": {},
     "output_type": "execute_result"
    }
   ],
   "source": [
    "df = data('iris')\n",
    "df.head(3)"
   ]
  },
  {
   "cell_type": "markdown",
   "id": "092c31ad",
   "metadata": {},
   "source": [
    "## Using this lesson as a guide, perform clustering on the iris dataset.\n",
    "\n",
    "- Choose features other than the ones used in the lesson.\n",
    "- Visualize the results of your clustering.\n",
    "- Use the elbow method to visually select a good value for k.\n",
    "- Repeat the clustering, this time with 3 different features.\n",
    "- Use the techniques discussed in this lesson, as well as the insights gained from the exploration exercise to perform clustering on the mall customers dataset. Be sure to visualize your results!"
   ]
  },
  {
   "cell_type": "markdown",
   "id": "6aad0505",
   "metadata": {},
   "source": [
    "### Choose features"
   ]
  },
  {
   "cell_type": "code",
   "execution_count": 3,
   "id": "3cf44102",
   "metadata": {},
   "outputs": [
    {
     "data": {
      "text/html": [
       "<div>\n",
       "<style scoped>\n",
       "    .dataframe tbody tr th:only-of-type {\n",
       "        vertical-align: middle;\n",
       "    }\n",
       "\n",
       "    .dataframe tbody tr th {\n",
       "        vertical-align: top;\n",
       "    }\n",
       "\n",
       "    .dataframe thead th {\n",
       "        text-align: right;\n",
       "    }\n",
       "</style>\n",
       "<table border=\"1\" class=\"dataframe\">\n",
       "  <thead>\n",
       "    <tr style=\"text-align: right;\">\n",
       "      <th></th>\n",
       "      <th>Sepal.Length</th>\n",
       "      <th>Sepal.Width</th>\n",
       "      <th>Petal.Length</th>\n",
       "      <th>Petal.Width</th>\n",
       "      <th>Species_setosa</th>\n",
       "      <th>Species_versicolor</th>\n",
       "      <th>Species_virginica</th>\n",
       "    </tr>\n",
       "  </thead>\n",
       "  <tbody>\n",
       "    <tr>\n",
       "      <th>1</th>\n",
       "      <td>5.1</td>\n",
       "      <td>3.5</td>\n",
       "      <td>1.4</td>\n",
       "      <td>0.2</td>\n",
       "      <td>1</td>\n",
       "      <td>0</td>\n",
       "      <td>0</td>\n",
       "    </tr>\n",
       "    <tr>\n",
       "      <th>2</th>\n",
       "      <td>4.9</td>\n",
       "      <td>3.0</td>\n",
       "      <td>1.4</td>\n",
       "      <td>0.2</td>\n",
       "      <td>1</td>\n",
       "      <td>0</td>\n",
       "      <td>0</td>\n",
       "    </tr>\n",
       "    <tr>\n",
       "      <th>3</th>\n",
       "      <td>4.7</td>\n",
       "      <td>3.2</td>\n",
       "      <td>1.3</td>\n",
       "      <td>0.2</td>\n",
       "      <td>1</td>\n",
       "      <td>0</td>\n",
       "      <td>0</td>\n",
       "    </tr>\n",
       "  </tbody>\n",
       "</table>\n",
       "</div>"
      ],
      "text/plain": [
       "   Sepal.Length  Sepal.Width  Petal.Length  Petal.Width  Species_setosa  \\\n",
       "1           5.1          3.5           1.4          0.2               1   \n",
       "2           4.9          3.0           1.4          0.2               1   \n",
       "3           4.7          3.2           1.3          0.2               1   \n",
       "\n",
       "   Species_versicolor  Species_virginica  \n",
       "1                   0                  0  \n",
       "2                   0                  0  \n",
       "3                   0                  0  "
      ]
     },
     "execution_count": 3,
     "metadata": {},
     "output_type": "execute_result"
    }
   ],
   "source": [
    "df = pd.get_dummies(df, columns=['Species'])\n",
    "df.head(3)"
   ]
  },
  {
   "cell_type": "code",
   "execution_count": 4,
   "id": "fc615b7a",
   "metadata": {},
   "outputs": [
    {
     "data": {
      "text/plain": [
       "((90, 7), (30, 7), (30, 7))"
      ]
     },
     "execution_count": 4,
     "metadata": {},
     "output_type": "execute_result"
    }
   ],
   "source": [
    "train_validate, test = train_test_split(df, test_size=.2, random_state=123)\n",
    "train, validate = train_test_split(train_validate, test_size=.25, random_state=123)\n",
    "train.shape, validate.shape, test.shape"
   ]
  },
  {
   "cell_type": "code",
   "execution_count": 5,
   "id": "9ba5eaab",
   "metadata": {},
   "outputs": [],
   "source": [
    "kmeans = KMeans(n_clusters=3, random_state=123)"
   ]
  },
  {
   "cell_type": "code",
   "execution_count": 6,
   "id": "c710c16b",
   "metadata": {},
   "outputs": [
    {
     "data": {
      "text/plain": [
       "KMeans(n_clusters=3, random_state=123)"
      ]
     },
     "execution_count": 6,
     "metadata": {},
     "output_type": "execute_result"
    }
   ],
   "source": [
    "kmeans.fit(train[['Sepal.Length','Sepal.Width']])"
   ]
  },
  {
   "cell_type": "code",
   "execution_count": 7,
   "id": "93a373a1",
   "metadata": {},
   "outputs": [
    {
     "data": {
      "text/html": [
       "<div>\n",
       "<style scoped>\n",
       "    .dataframe tbody tr th:only-of-type {\n",
       "        vertical-align: middle;\n",
       "    }\n",
       "\n",
       "    .dataframe tbody tr th {\n",
       "        vertical-align: top;\n",
       "    }\n",
       "\n",
       "    .dataframe thead th {\n",
       "        text-align: right;\n",
       "    }\n",
       "</style>\n",
       "<table border=\"1\" class=\"dataframe\">\n",
       "  <thead>\n",
       "    <tr style=\"text-align: right;\">\n",
       "      <th></th>\n",
       "      <th>Sepal.Length</th>\n",
       "      <th>Sepal.Width</th>\n",
       "      <th>Petal.Length</th>\n",
       "      <th>Petal.Width</th>\n",
       "      <th>Species_setosa</th>\n",
       "      <th>Species_versicolor</th>\n",
       "      <th>Species_virginica</th>\n",
       "      <th>sepal_cluster</th>\n",
       "    </tr>\n",
       "  </thead>\n",
       "  <tbody>\n",
       "    <tr>\n",
       "      <th>87</th>\n",
       "      <td>6.7</td>\n",
       "      <td>3.1</td>\n",
       "      <td>4.7</td>\n",
       "      <td>1.5</td>\n",
       "      <td>0</td>\n",
       "      <td>1</td>\n",
       "      <td>0</td>\n",
       "      <td>0</td>\n",
       "    </tr>\n",
       "    <tr>\n",
       "      <th>83</th>\n",
       "      <td>5.8</td>\n",
       "      <td>2.7</td>\n",
       "      <td>3.9</td>\n",
       "      <td>1.2</td>\n",
       "      <td>0</td>\n",
       "      <td>1</td>\n",
       "      <td>0</td>\n",
       "      <td>2</td>\n",
       "    </tr>\n",
       "    <tr>\n",
       "      <th>110</th>\n",
       "      <td>7.2</td>\n",
       "      <td>3.6</td>\n",
       "      <td>6.1</td>\n",
       "      <td>2.5</td>\n",
       "      <td>0</td>\n",
       "      <td>0</td>\n",
       "      <td>1</td>\n",
       "      <td>0</td>\n",
       "    </tr>\n",
       "  </tbody>\n",
       "</table>\n",
       "</div>"
      ],
      "text/plain": [
       "     Sepal.Length  Sepal.Width  Petal.Length  Petal.Width  Species_setosa  \\\n",
       "87            6.7          3.1           4.7          1.5               0   \n",
       "83            5.8          2.7           3.9          1.2               0   \n",
       "110           7.2          3.6           6.1          2.5               0   \n",
       "\n",
       "     Species_versicolor  Species_virginica  sepal_cluster  \n",
       "87                    1                  0              0  \n",
       "83                    1                  0              2  \n",
       "110                   0                  1              0  "
      ]
     },
     "execution_count": 7,
     "metadata": {},
     "output_type": "execute_result"
    }
   ],
   "source": [
    "train['sepal_cluster'] = kmeans.predict(train[['Sepal.Length','Sepal.Width']])\n",
    "train.head(3)"
   ]
  },
  {
   "cell_type": "markdown",
   "id": "fddbb31c",
   "metadata": {},
   "source": [
    "### Visualize Clusters"
   ]
  },
  {
   "cell_type": "code",
   "execution_count": 8,
   "id": "91f466de",
   "metadata": {},
   "outputs": [
    {
     "data": {
      "image/png": "[encoded data removed]",
      "text/plain": [
       "<Figure size 720x504 with 1 Axes>"
      ]
     },
     "metadata": {
      "needs_background": "light"
     },
     "output_type": "display_data"
    }
   ],
   "source": [
    "centroids = train.groupby('sepal_cluster')['Sepal.Length','Sepal.Width'].mean()\n",
    "plt.figure(figsize=(10,7))\n",
    "sns.scatterplot(data=train, x='Sepal.Length', y='Sepal.Width', hue='sepal_cluster', palette='bright')\n",
    "centroids.plot.scatter(x='Sepal.Length', y='Sepal.Width', marker='x', s=1000, ax=plt.gca())\n",
    "plt.show()"
   ]
  },
  {
   "cell_type": "markdown",
   "id": "e1e82fb9",
   "metadata": {},
   "source": [
    "### Elbow Method to Select K"
   ]
  },
  {
   "cell_type": "markdown",
   "id": "1c9b2ce1",
   "metadata": {},
   "source": [
    "#### Generating cluster iterations"
   ]
  },
  {
   "cell_type": "code",
   "execution_count": 9,
   "id": "e44f5fa8",
   "metadata": {},
   "outputs": [],
   "source": [
    "k = 2\n",
    "kmeans2 = KMeans(n_clusters=k, random_state=123)\n",
    "kmeans2.fit(train[['Sepal.Length','Sepal.Width']])\n",
    "inertia_2 = kmeans.inertia_"
   ]
  },
  {
   "cell_type": "code",
   "execution_count": 10,
   "id": "2a09befd",
   "metadata": {},
   "outputs": [],
   "source": [
    "inertia_3 = kmeans.inertia_"
   ]
  },
  {
   "cell_type": "code",
   "execution_count": 11,
   "id": "38638e4b",
   "metadata": {},
   "outputs": [],
   "source": [
    "k = 4\n",
    "kmeans4 = KMeans(n_clusters=k, random_state=123)\n",
    "kmeans4.fit(train[['Sepal.Length','Sepal.Width']])\n",
    "inertia_4 = kmeans4.inertia_"
   ]
  },
  {
   "cell_type": "code",
   "execution_count": 12,
   "id": "e53945ef",
   "metadata": {},
   "outputs": [],
   "source": [
    "k = 5\n",
    "kmeans5 = KMeans(n_clusters=k, random_state=123)\n",
    "kmeans5.fit(train[['Sepal.Length','Sepal.Width']])\n",
    "inertia_5 = kmeans5.inertia_"
   ]
  },
  {
   "cell_type": "code",
   "execution_count": 13,
   "id": "d7e6d80a",
   "metadata": {},
   "outputs": [],
   "source": [
    "k = 6\n",
    "kmeans6 = KMeans(n_clusters=k, random_state=123)\n",
    "kmeans6.fit(train[['Sepal.Length','Sepal.Width']])\n",
    "inertia_6 = kmeans6.inertia_"
   ]
  },
  {
   "cell_type": "code",
   "execution_count": 14,
   "id": "104faac0",
   "metadata": {},
   "outputs": [],
   "source": [
    "k = 7\n",
    "kmeans7 = KMeans(n_clusters=k, random_state=123)\n",
    "kmeans7.fit(train[['Sepal.Length','Sepal.Width']])\n",
    "inertia_7 = kmeans7.inertia_"
   ]
  },
  {
   "cell_type": "code",
   "execution_count": 15,
   "id": "44dfa305",
   "metadata": {},
   "outputs": [],
   "source": [
    "k = 8\n",
    "kmeans8 = KMeans(n_clusters=k, random_state=123)\n",
    "kmeans8.fit(train[['Sepal.Length','Sepal.Width']])\n",
    "inertia_8 = kmeans8.inertia_"
   ]
  },
  {
   "cell_type": "markdown",
   "id": "7a76c327",
   "metadata": {},
   "source": [
    "#### Plotting cluster iterations"
   ]
  },
  {
   "cell_type": "code",
   "execution_count": 16,
   "id": "53e29738",
   "metadata": {},
   "outputs": [
    {
     "data": {
      "image/png": "[encoded data removed]",
      "text/plain": [
       "<Figure size 432x288 with 1 Axes>"
      ]
     },
     "metadata": {
      "needs_background": "light"
     },
     "output_type": "display_data"
    }
   ],
   "source": [
    "inertias = [inertia_2, inertia_3, inertia_4, inertia_5, inertia_6, inertia_7, inertia_8]\n",
    "for i, inertia in enumerate(inertias):\n",
    "    plt.bar(i + 2, inertia)"
   ]
  },
  {
   "cell_type": "markdown",
   "id": "3e09bc90",
   "metadata": {},
   "source": [
    "I'll say the 'elbow' is 5, so let's plot with 5 clusters"
   ]
  },
  {
   "cell_type": "markdown",
   "id": "1ae97e9e",
   "metadata": {},
   "source": [
    "#### Plotting with 5 clusters"
   ]
  },
  {
   "cell_type": "code",
   "execution_count": 17,
   "id": "e50de457",
   "metadata": {},
   "outputs": [],
   "source": [
    "train['sepal_cluster5'] = kmeans5.predict(train[['Sepal.Length','Sepal.Width']])"
   ]
  },
  {
   "cell_type": "code",
   "execution_count": 18,
   "id": "1977ea6e",
   "metadata": {},
   "outputs": [
    {
     "data": {
      "image/png": "[encoded data removed]",
      "text/plain": [
       "<Figure size 720x504 with 1 Axes>"
      ]
     },
     "metadata": {
      "needs_background": "light"
     },
     "output_type": "display_data"
    }
   ],
   "source": [
    "centroids = train.groupby('sepal_cluster5')['Sepal.Length','Sepal.Width'].mean()\n",
    "plt.figure(figsize=(10,7))\n",
    "sns.scatterplot(data=train, x='Sepal.Length', y='Sepal.Width', hue='sepal_cluster5', palette='bright')\n",
    "centroids.plot.scatter(x='Sepal.Length', y='Sepal.Width', marker='x', s=1000, ax=plt.gca())\n",
    "plt.show()"
   ]
  },
  {
   "cell_type": "markdown",
   "id": "6aff0e8a",
   "metadata": {},
   "source": [
    "### Use 3 Features, Cluster, Plot"
   ]
  },
  {
   "cell_type": "code",
   "execution_count": 19,
   "id": "2ed9ccf1",
   "metadata": {},
   "outputs": [],
   "source": [
    "kmeans_tri = KMeans(n_clusters=3, random_state=123)\n",
    "kmeans_tri.fit(train[['Sepal.Length','Sepal.Width','Petal.Length']])\n",
    "train['tri_cluster'] = kmeans_tri.predict(train[['Sepal.Length','Sepal.Width','Petal.Length']])"
   ]
  },
  {
   "cell_type": "code",
   "execution_count": 20,
   "id": "254c2b73",
   "metadata": {},
   "outputs": [
    {
     "data": {
      "text/plain": [
       "<bound method Series.items of tri_cluster\n",
       "0    4.348718\n",
       "1    5.650000\n",
       "2    1.477778\n",
       "Name: Petal.Length, dtype: float64>"
      ]
     },
     "execution_count": 20,
     "metadata": {},
     "output_type": "execute_result"
    }
   ],
   "source": [
    "train.groupby('tri_cluster')['Petal.Length'].mean().items"
   ]
  },
  {
   "cell_type": "code",
   "execution_count": 21,
   "id": "1c020752",
   "metadata": {},
   "outputs": [
    {
     "data": {
      "image/png": "[encoded data removed]",
      "text/plain": [
       "<Figure size 720x504 with 1 Axes>"
      ]
     },
     "metadata": {
      "needs_background": "light"
     },
     "output_type": "display_data"
    },
    {
     "data": {
      "image/png": "[encoded data removed]",
      "text/plain": [
       "<Figure size 432x288 with 1 Axes>"
      ]
     },
     "metadata": {
      "needs_background": "light"
     },
     "output_type": "display_data"
    }
   ],
   "source": [
    "centroids_tri_sepal = train.groupby('tri_cluster')['Sepal.Length','Sepal.Width'].mean()\n",
    "plt.figure(figsize=(10,7))\n",
    "sns.scatterplot(data=train, x='Sepal.Length', y='Sepal.Width', hue='tri_cluster', palette='bright')\n",
    "centroids_tri_sepal.plot.scatter(x='Sepal.Length', y='Sepal.Width', marker='x', s=1000, ax=plt.gca())\n",
    "plt.title('3D clustering of Sepal Length, Sepal Width, and Petal Length: without plotting Petal Length')\n",
    "plt.show()\n",
    "for i, length in enumerate(train.groupby('tri_cluster')['Petal.Length'].mean().items()):\n",
    "    plt.bar(i, length)\n",
    "plt.title('3D clustering of Sepal Length, Sepal Width, and Petal Length: only plotting Petal Length')\n",
    "plt.show()"
   ]
  },
  {
   "cell_type": "markdown",
   "id": "1229720b",
   "metadata": {},
   "source": [
    "## How does scaling impact the results of clustering?\n",
    "\n",
    "- Compare k-means clustering results on scaled and unscaled data (you can choose any dataset for this exercise OR use the data/steps outlined in the bonus below). You can show how the resulting clusters differ either with descriptive statistics or visually."
   ]
  },
  {
   "cell_type": "markdown",
   "id": "6d9b931a",
   "metadata": {},
   "source": [
    "## Bonus\n",
    "1. Read in the data from this google sheet: https://docs.google.com/spreadsheets/d/1j5EgXVTR5ikUj3G5ZCQmkq6ziz_gvtASGAdw23-5_6M/edit?usp=sharing\n",
    "2. Visualize the data and guess the number and shape of the clusters.\n",
    "3. Implement the KMeans algorithm on unscaled data and visualize the clusters.\n",
    "4. Repeat the step above but with scaled data. \n",
    "5. Write down the takeaways from this exercise."
   ]
  },
  {
   "cell_type": "code",
   "execution_count": null,
   "id": "61a1f2d0",
   "metadata": {},
   "outputs": [],
   "source": []
  }
 ],
 "metadata": {
  "kernelspec": {
   "display_name": "Python 3 (ipykernel)",
   "language": "python",
   "name": "python3"
  },
  "language_info": {
   "codemirror_mode": {
    "name": "ipython",
    "version": 3
   },
   "file_extension": ".py",
   "mimetype": "text/x-python",
   "name": "python",
   "nbconvert_exporter": "python",
   "pygments_lexer": "ipython3",
   "version": "3.8.8"
  }
 },
 "nbformat": 4,
 "nbformat_minor": 5
}
