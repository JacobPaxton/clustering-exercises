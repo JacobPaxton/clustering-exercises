{
 "cells": [
  {
   "cell_type": "markdown",
   "id": "dfb925e7",
   "metadata": {},
   "source": [
    "Sourcing the Zillow database as the data source, create a jupyter notebook named explore_zillow and do the following:\n",
    "\n",
    "Ask at least 5 questions about the data, keeping in mind that your target variable is logerror. e.g. Is logerror significantly different for properties in LA County vs Orange County vs Ventura County?\n",
    "\n",
    "Answer those questions through a mix of statistical tests and visualizations.\n",
    "\n",
    "Bonus:\n",
    "\n",
    "Compute the mean(logerror) by zipcode and the overall mean(logerror). Write a loop that will run a t-test between the overall mean and the mean for each zip code. We want to identify the zip codes where the error is significantly higher or lower than the expected error."
   ]
  },
  {
   "cell_type": "markdown",
   "id": "db88b9ec",
   "metadata": {},
   "source": [
    "# Setup"
   ]
  },
  {
   "cell_type": "code",
   "execution_count": 1,
   "id": "b70176e3",
   "metadata": {},
   "outputs": [],
   "source": [
    "import pandas as pd\n",
    "import seaborn as sns\n",
    "import matplotlib.pyplot as plt\n",
    "import scipy.stats as stats\n",
    "\n",
    "import acquire_zillow"
   ]
  },
  {
   "cell_type": "code",
   "execution_count": 2,
   "id": "2f74836a",
   "metadata": {},
   "outputs": [
    {
     "data": {
      "text/html": [
       "<div>\n",
       "<style scoped>\n",
       "    .dataframe tbody tr th:only-of-type {\n",
       "        vertical-align: middle;\n",
       "    }\n",
       "\n",
       "    .dataframe tbody tr th {\n",
       "        vertical-align: top;\n",
       "    }\n",
       "\n",
       "    .dataframe thead th {\n",
       "        text-align: right;\n",
       "    }\n",
       "</style>\n",
       "<table border=\"1\" class=\"dataframe\">\n",
       "  <thead>\n",
       "    <tr style=\"text-align: right;\">\n",
       "      <th></th>\n",
       "      <th>parcelid</th>\n",
       "      <th>transactiondate</th>\n",
       "      <th>typeconstructiontypeid</th>\n",
       "      <th>storytypeid</th>\n",
       "      <th>propertylandusetypeid</th>\n",
       "      <th>heatingorsystemtypeid</th>\n",
       "      <th>buildingclasstypeid</th>\n",
       "      <th>architecturalstyletypeid</th>\n",
       "      <th>airconditioningtypeid</th>\n",
       "      <th>basementsqft</th>\n",
       "      <th>...</th>\n",
       "      <th>logerror</th>\n",
       "      <th>airconditioningdesc</th>\n",
       "      <th>architecturalstyledesc</th>\n",
       "      <th>buildingclassdesc</th>\n",
       "      <th>heatingorsystemdesc</th>\n",
       "      <th>propertylandusedesc</th>\n",
       "      <th>storydesc</th>\n",
       "      <th>typeconstructiondesc</th>\n",
       "      <th>property_id</th>\n",
       "      <th>transaction_id</th>\n",
       "    </tr>\n",
       "  </thead>\n",
       "  <tbody>\n",
       "    <tr>\n",
       "      <th>0</th>\n",
       "      <td>10711855</td>\n",
       "      <td>2017-07-07</td>\n",
       "      <td>NaN</td>\n",
       "      <td>NaN</td>\n",
       "      <td>261.0</td>\n",
       "      <td>2.0</td>\n",
       "      <td>NaN</td>\n",
       "      <td>NaN</td>\n",
       "      <td>NaN</td>\n",
       "      <td>NaN</td>\n",
       "      <td>...</td>\n",
       "      <td>-0.007357</td>\n",
       "      <td>None</td>\n",
       "      <td>None</td>\n",
       "      <td>None</td>\n",
       "      <td>Central</td>\n",
       "      <td>Single Family Residential</td>\n",
       "      <td>None</td>\n",
       "      <td>None</td>\n",
       "      <td>1087254</td>\n",
       "      <td>55006</td>\n",
       "    </tr>\n",
       "    <tr>\n",
       "      <th>1</th>\n",
       "      <td>10711877</td>\n",
       "      <td>2017-08-29</td>\n",
       "      <td>NaN</td>\n",
       "      <td>NaN</td>\n",
       "      <td>261.0</td>\n",
       "      <td>2.0</td>\n",
       "      <td>NaN</td>\n",
       "      <td>NaN</td>\n",
       "      <td>1.0</td>\n",
       "      <td>NaN</td>\n",
       "      <td>...</td>\n",
       "      <td>0.021066</td>\n",
       "      <td>Central</td>\n",
       "      <td>None</td>\n",
       "      <td>None</td>\n",
       "      <td>Central</td>\n",
       "      <td>Single Family Residential</td>\n",
       "      <td>None</td>\n",
       "      <td>None</td>\n",
       "      <td>1072280</td>\n",
       "      <td>71382</td>\n",
       "    </tr>\n",
       "    <tr>\n",
       "      <th>2</th>\n",
       "      <td>10711888</td>\n",
       "      <td>2017-04-04</td>\n",
       "      <td>NaN</td>\n",
       "      <td>NaN</td>\n",
       "      <td>261.0</td>\n",
       "      <td>2.0</td>\n",
       "      <td>NaN</td>\n",
       "      <td>NaN</td>\n",
       "      <td>1.0</td>\n",
       "      <td>NaN</td>\n",
       "      <td>...</td>\n",
       "      <td>0.077174</td>\n",
       "      <td>Central</td>\n",
       "      <td>None</td>\n",
       "      <td>None</td>\n",
       "      <td>Central</td>\n",
       "      <td>Single Family Residential</td>\n",
       "      <td>None</td>\n",
       "      <td>None</td>\n",
       "      <td>1340933</td>\n",
       "      <td>23209</td>\n",
       "    </tr>\n",
       "  </tbody>\n",
       "</table>\n",
       "<p>3 rows × 69 columns</p>\n",
       "</div>"
      ],
      "text/plain": [
       "   parcelid transactiondate  typeconstructiontypeid  storytypeid  \\\n",
       "0  10711855      2017-07-07                     NaN          NaN   \n",
       "1  10711877      2017-08-29                     NaN          NaN   \n",
       "2  10711888      2017-04-04                     NaN          NaN   \n",
       "\n",
       "   propertylandusetypeid  heatingorsystemtypeid  buildingclasstypeid  \\\n",
       "0                  261.0                    2.0                  NaN   \n",
       "1                  261.0                    2.0                  NaN   \n",
       "2                  261.0                    2.0                  NaN   \n",
       "\n",
       "   architecturalstyletypeid  airconditioningtypeid  basementsqft  ...  \\\n",
       "0                       NaN                    NaN           NaN  ...   \n",
       "1                       NaN                    1.0           NaN  ...   \n",
       "2                       NaN                    1.0           NaN  ...   \n",
       "\n",
       "   logerror  airconditioningdesc  architecturalstyledesc  buildingclassdesc  \\\n",
       "0 -0.007357                 None                    None               None   \n",
       "1  0.021066              Central                    None               None   \n",
       "2  0.077174              Central                    None               None   \n",
       "\n",
       "   heatingorsystemdesc        propertylandusedesc  storydesc  \\\n",
       "0              Central  Single Family Residential       None   \n",
       "1              Central  Single Family Residential       None   \n",
       "2              Central  Single Family Residential       None   \n",
       "\n",
       "   typeconstructiondesc  property_id  transaction_id  \n",
       "0                  None      1087254           55006  \n",
       "1                  None      1072280           71382  \n",
       "2                  None      1340933           23209  \n",
       "\n",
       "[3 rows x 69 columns]"
      ]
     },
     "execution_count": 2,
     "metadata": {},
     "output_type": "execute_result"
    }
   ],
   "source": [
    "df = acquire_zillow.zillow_clustering_acquire()\n",
    "df.head(3)"
   ]
  },
  {
   "cell_type": "markdown",
   "id": "c0b16496",
   "metadata": {},
   "source": [
    "# Log Error Hypotheses"
   ]
  },
  {
   "cell_type": "markdown",
   "id": "ce997329",
   "metadata": {},
   "source": [
    "## Setup"
   ]
  },
  {
   "cell_type": "code",
   "execution_count": 3,
   "id": "7e7699b2",
   "metadata": {},
   "outputs": [
    {
     "data": {
      "text/html": [
       "<div>\n",
       "<style scoped>\n",
       "    .dataframe tbody tr th:only-of-type {\n",
       "        vertical-align: middle;\n",
       "    }\n",
       "\n",
       "    .dataframe tbody tr th {\n",
       "        vertical-align: top;\n",
       "    }\n",
       "\n",
       "    .dataframe thead th {\n",
       "        text-align: right;\n",
       "    }\n",
       "</style>\n",
       "<table border=\"1\" class=\"dataframe\">\n",
       "  <thead>\n",
       "    <tr style=\"text-align: right;\">\n",
       "      <th></th>\n",
       "      <th>parcelid</th>\n",
       "      <th>logerror</th>\n",
       "      <th>fips</th>\n",
       "    </tr>\n",
       "  </thead>\n",
       "  <tbody>\n",
       "    <tr>\n",
       "      <th>0</th>\n",
       "      <td>10711855</td>\n",
       "      <td>-0.007357</td>\n",
       "      <td>6037.0</td>\n",
       "    </tr>\n",
       "    <tr>\n",
       "      <th>1</th>\n",
       "      <td>10711877</td>\n",
       "      <td>0.021066</td>\n",
       "      <td>6037.0</td>\n",
       "    </tr>\n",
       "    <tr>\n",
       "      <th>2</th>\n",
       "      <td>10711888</td>\n",
       "      <td>0.077174</td>\n",
       "      <td>6037.0</td>\n",
       "    </tr>\n",
       "  </tbody>\n",
       "</table>\n",
       "</div>"
      ],
      "text/plain": [
       "   parcelid  logerror    fips\n",
       "0  10711855 -0.007357  6037.0\n",
       "1  10711877  0.021066  6037.0\n",
       "2  10711888  0.077174  6037.0"
      ]
     },
     "execution_count": 3,
     "metadata": {},
     "output_type": "execute_result"
    }
   ],
   "source": [
    "df_logerror = df[['parcelid','logerror','fips']].copy()\n",
    "df_logerror.head(3)"
   ]
  },
  {
   "cell_type": "code",
   "execution_count": 4,
   "id": "41b73fd9",
   "metadata": {},
   "outputs": [
    {
     "data": {
      "text/plain": [
       "6037.0    50551\n",
       "6059.0    20593\n",
       "6111.0     6237\n",
       "Name: fips, dtype: int64"
      ]
     },
     "execution_count": 4,
     "metadata": {},
     "output_type": "execute_result"
    }
   ],
   "source": [
    "df.fips.value_counts()"
   ]
  },
  {
   "cell_type": "code",
   "execution_count": 5,
   "id": "d5fc8ec6",
   "metadata": {},
   "outputs": [
    {
     "data": {
      "text/html": [
       "<div>\n",
       "<style scoped>\n",
       "    .dataframe tbody tr th:only-of-type {\n",
       "        vertical-align: middle;\n",
       "    }\n",
       "\n",
       "    .dataframe tbody tr th {\n",
       "        vertical-align: top;\n",
       "    }\n",
       "\n",
       "    .dataframe thead th {\n",
       "        text-align: right;\n",
       "    }\n",
       "</style>\n",
       "<table border=\"1\" class=\"dataframe\">\n",
       "  <thead>\n",
       "    <tr style=\"text-align: right;\">\n",
       "      <th></th>\n",
       "      <th>parcelid</th>\n",
       "      <th>logerror</th>\n",
       "      <th>fips</th>\n",
       "      <th>county</th>\n",
       "    </tr>\n",
       "  </thead>\n",
       "  <tbody>\n",
       "    <tr>\n",
       "      <th>0</th>\n",
       "      <td>10711855</td>\n",
       "      <td>-0.007357</td>\n",
       "      <td>6037.0</td>\n",
       "      <td>LosAngeles</td>\n",
       "    </tr>\n",
       "    <tr>\n",
       "      <th>1</th>\n",
       "      <td>10711877</td>\n",
       "      <td>0.021066</td>\n",
       "      <td>6037.0</td>\n",
       "      <td>LosAngeles</td>\n",
       "    </tr>\n",
       "    <tr>\n",
       "      <th>2</th>\n",
       "      <td>10711888</td>\n",
       "      <td>0.077174</td>\n",
       "      <td>6037.0</td>\n",
       "      <td>LosAngeles</td>\n",
       "    </tr>\n",
       "  </tbody>\n",
       "</table>\n",
       "</div>"
      ],
      "text/plain": [
       "   parcelid  logerror    fips      county\n",
       "0  10711855 -0.007357  6037.0  LosAngeles\n",
       "1  10711877  0.021066  6037.0  LosAngeles\n",
       "2  10711888  0.077174  6037.0  LosAngeles"
      ]
     },
     "execution_count": 5,
     "metadata": {},
     "output_type": "execute_result"
    }
   ],
   "source": [
    "map1 = {6037:'LosAngeles', 6059:'Orange', 6111:'Ventura'}\n",
    "df_logerror['county'] = df_logerror.fips.map(map1)\n",
    "df_logerror.head(3)"
   ]
  },
  {
   "cell_type": "code",
   "execution_count": 6,
   "id": "e4c5225f",
   "metadata": {},
   "outputs": [],
   "source": [
    "q1, q3 = df_logerror.logerror.quantile([.25, .75])\n",
    "# df_logerror[(df_logerror.logerror > q1) & (df_logerror.logerror < q3)]"
   ]
  },
  {
   "cell_type": "code",
   "execution_count": 7,
   "id": "e6c9c39b",
   "metadata": {
    "scrolled": true
   },
   "outputs": [
    {
     "data": {
      "text/plain": [
       "<AxesSubplot:xlabel='county', ylabel='logerror'>"
      ]
     },
     "execution_count": 7,
     "metadata": {},
     "output_type": "execute_result"
    },
    {
     "data": {
      "image/png": "[encoded data removed]",
      "text/plain": [
       "<Figure size 432x288 with 1 Axes>"
      ]
     },
     "metadata": {
      "needs_background": "light"
     },
     "output_type": "display_data"
    }
   ],
   "source": [
    "sns.boxplot(data=df_logerror[(df_logerror.logerror > q1) & (df_logerror.logerror < q3)], x='county', y='logerror')"
   ]
  },
  {
   "cell_type": "code",
   "execution_count": 8,
   "id": "05b52662",
   "metadata": {},
   "outputs": [],
   "source": [
    "LA = df_logerror[df_logerror.county == 'LosAngeles']\n",
    "Orange = df_logerror[df_logerror.county == 'Orange']\n",
    "Ventura = df_logerror[df_logerror.county == 'Ventura']"
   ]
  },
  {
   "cell_type": "markdown",
   "id": "d590753b",
   "metadata": {},
   "source": [
    "## Los Angeles County differs?\n",
    "$H_0$: Los Angeles county logerror does not differ significantly from the total population.\n",
    "\n",
    "$H_a$: Los Angeles county logerror differs significantly from the total population."
   ]
  },
  {
   "cell_type": "code",
   "execution_count": 9,
   "id": "ab4a022c",
   "metadata": {},
   "outputs": [
    {
     "name": "stdout",
     "output_type": "stream",
     "text": [
      "We reject the null hypothesis with 95% confidence.\n"
     ]
    }
   ],
   "source": [
    "alpha = .05 / 2\n",
    "t, p = stats.mannwhitneyu(LA.logerror, df_logerror.logerror)\n",
    "\n",
    "if p < alpha:\n",
    "    print('We reject the null hypothesis with 95% confidence.')\n",
    "else:\n",
    "    print('Results do not pass 95% confidence threshold.')"
   ]
  },
  {
   "cell_type": "markdown",
   "id": "a810d1ce",
   "metadata": {},
   "source": [
    "## Orange County differs?\n",
    "$H_0$: Orange county logerror does not differ significantly from the total population.\n",
    "\n",
    "$H_a$: Orange county logerror differs significantly from the total population."
   ]
  },
  {
   "cell_type": "code",
   "execution_count": 10,
   "id": "dad5d981",
   "metadata": {},
   "outputs": [
    {
     "name": "stdout",
     "output_type": "stream",
     "text": [
      "We reject the null hypothesis with 95% confidence.\n"
     ]
    }
   ],
   "source": [
    "alpha = .05 / 2\n",
    "t, p = stats.mannwhitneyu(Orange.logerror, df_logerror.logerror)\n",
    "\n",
    "if p < alpha:\n",
    "    print('We reject the null hypothesis with 95% confidence.')\n",
    "else:\n",
    "    print('Results do not pass 95% confidence threshold.')"
   ]
  },
  {
   "cell_type": "markdown",
   "id": "83bc72b1",
   "metadata": {},
   "source": [
    "## Ventura County differs?\n",
    "$H_0$: Ventura county logerror does not differ significantly from the total population.\n",
    "\n",
    "$H_a$: Ventura county logerror differs significantly from the total population."
   ]
  },
  {
   "cell_type": "code",
   "execution_count": 11,
   "id": "db42bc69",
   "metadata": {},
   "outputs": [
    {
     "name": "stdout",
     "output_type": "stream",
     "text": [
      "We reject the null hypothesis with 95% confidence.\n"
     ]
    }
   ],
   "source": [
    "alpha = .05 / 2\n",
    "t, p = stats.mannwhitneyu(Ventura.logerror, df_logerror.logerror)\n",
    "\n",
    "if p < alpha:\n",
    "    print('We reject the null hypothesis with 95% confidence.')\n",
    "else:\n",
    "    print('Results do not pass 95% confidence threshold.')"
   ]
  },
  {
   "cell_type": "markdown",
   "id": "a89b46e4",
   "metadata": {},
   "source": [
    "# Heating System and Home Value"
   ]
  },
  {
   "cell_type": "markdown",
   "id": "a6c9d575",
   "metadata": {},
   "source": [
    "## Setup"
   ]
  },
  {
   "cell_type": "code",
   "execution_count": 12,
   "id": "5028d04a",
   "metadata": {},
   "outputs": [
    {
     "data": {
      "text/plain": [
       "0.36108347010247993"
      ]
     },
     "execution_count": 12,
     "metadata": {},
     "output_type": "execute_result"
    }
   ],
   "source": [
    "df.heatingorsystemdesc.isna().sum() / len(df)"
   ]
  },
  {
   "cell_type": "code",
   "execution_count": 13,
   "id": "2055d254",
   "metadata": {},
   "outputs": [
    {
     "data": {
      "text/html": [
       "<div>\n",
       "<style scoped>\n",
       "    .dataframe tbody tr th:only-of-type {\n",
       "        vertical-align: middle;\n",
       "    }\n",
       "\n",
       "    .dataframe tbody tr th {\n",
       "        vertical-align: top;\n",
       "    }\n",
       "\n",
       "    .dataframe thead th {\n",
       "        text-align: right;\n",
       "    }\n",
       "</style>\n",
       "<table border=\"1\" class=\"dataframe\">\n",
       "  <thead>\n",
       "    <tr style=\"text-align: right;\">\n",
       "      <th></th>\n",
       "      <th>propertylandusedesc</th>\n",
       "      <th>parcelid</th>\n",
       "      <th>taxvaluedollarcnt</th>\n",
       "      <th>heatingorsystemdesc</th>\n",
       "    </tr>\n",
       "  </thead>\n",
       "  <tbody>\n",
       "    <tr>\n",
       "      <th>0</th>\n",
       "      <td>Single Family Residential</td>\n",
       "      <td>10711855</td>\n",
       "      <td>624139.0</td>\n",
       "      <td>Central</td>\n",
       "    </tr>\n",
       "    <tr>\n",
       "      <th>1</th>\n",
       "      <td>Single Family Residential</td>\n",
       "      <td>10711877</td>\n",
       "      <td>660000.0</td>\n",
       "      <td>Central</td>\n",
       "    </tr>\n",
       "    <tr>\n",
       "      <th>2</th>\n",
       "      <td>Single Family Residential</td>\n",
       "      <td>10711888</td>\n",
       "      <td>542923.0</td>\n",
       "      <td>Central</td>\n",
       "    </tr>\n",
       "  </tbody>\n",
       "</table>\n",
       "</div>"
      ],
      "text/plain": [
       "         propertylandusedesc  parcelid  taxvaluedollarcnt heatingorsystemdesc\n",
       "0  Single Family Residential  10711855           624139.0             Central\n",
       "1  Single Family Residential  10711877           660000.0             Central\n",
       "2  Single Family Residential  10711888           542923.0             Central"
      ]
     },
     "execution_count": 13,
     "metadata": {},
     "output_type": "execute_result"
    }
   ],
   "source": [
    "df_heat = df[['propertylandusedesc','parcelid','taxvaluedollarcnt','heatingorsystemdesc']].copy()\n",
    "df_heat.head(3)"
   ]
  },
  {
   "cell_type": "code",
   "execution_count": 14,
   "id": "a8d79464",
   "metadata": {},
   "outputs": [
    {
     "data": {
      "text/plain": [
       "propertylandusedesc        0\n",
       "parcelid                   0\n",
       "taxvaluedollarcnt          1\n",
       "heatingorsystemdesc    27941\n",
       "dtype: int64"
      ]
     },
     "execution_count": 14,
     "metadata": {},
     "output_type": "execute_result"
    }
   ],
   "source": [
    "df_heat.isna().sum()"
   ]
  },
  {
   "cell_type": "code",
   "execution_count": 15,
   "id": "74235ef0",
   "metadata": {},
   "outputs": [],
   "source": [
    "df_heat_single = df_heat[df_heat.propertylandusedesc == 'Single Family Residential']"
   ]
  },
  {
   "cell_type": "code",
   "execution_count": 16,
   "id": "fc295b2c",
   "metadata": {},
   "outputs": [
    {
     "name": "stdout",
     "output_type": "stream",
     "text": [
      "Central 0.39543195718654434\n",
      "Floor/Wall 0.2394304281345566\n",
      "None 0.0\n",
      "Solar 0.001624617737003058\n",
      "Gravity 3.82262996941896e-05\n",
      "Forced air 0.009881498470948012\n",
      "Baseboard 0.0001337920489296636\n",
      "Yes 1.91131498470948e-05\n",
      "None 0.0003058103975535168\n",
      "Radiant 0.00011467889908256881\n"
     ]
    }
   ],
   "source": [
    "for value in df_heat_single.heatingorsystemdesc.unique():\n",
    "    print(value, (df_heat_single.heatingorsystemdesc == value).mean())"
   ]
  },
  {
   "cell_type": "code",
   "execution_count": 17,
   "id": "b87cb6dc",
   "metadata": {},
   "outputs": [
    {
     "name": "stdout",
     "output_type": "stream",
     "text": [
      "Central       20689\n",
      "Floor/Wall    12527\n",
      "Forced air      517\n",
      "Solar            85\n",
      "None             16\n",
      "Baseboard         7\n",
      "Radiant           6\n",
      "Gravity           2\n",
      "Yes               1\n",
      "Name: heatingorsystemdesc, dtype: int64\n",
      "Central       20689\n",
      "Floor/Wall    12527\n",
      "Forced air      517\n",
      "Solar            85\n",
      "None             16\n",
      "Baseboard         7\n",
      "Radiant           6\n",
      "Gravity           2\n",
      "Yes               1\n",
      "Name: heatingorsystemdesc, dtype: int64\n"
     ]
    },
    {
     "name": "stderr",
     "output_type": "stream",
     "text": [
      "/opt/homebrew/anaconda3/lib/python3.8/site-packages/pandas/util/_decorators.py:311: SettingWithCopyWarning: \n",
      "A value is trying to be set on a copy of a slice from a DataFrame\n",
      "\n",
      "See the caveats in the documentation: https://pandas.pydata.org/pandas-docs/stable/user_guide/indexing.html#returning-a-view-versus-a-copy\n",
      "  return func(*args, **kwargs)\n"
     ]
    }
   ],
   "source": [
    "print(df_heat_single.heatingorsystemdesc.value_counts())\n",
    "df_heat_single.dropna(inplace=True)\n",
    "print(df_heat_single.heatingorsystemdesc.value_counts())"
   ]
  },
  {
   "cell_type": "code",
   "execution_count": 18,
   "id": "cae1e63b",
   "metadata": {},
   "outputs": [],
   "source": [
    "central_heating = df_heat_single.heatingorsystemdesc == 'Central'\n",
    "wallfloor_heating = df_heat_single.heatingorsystemdesc == 'Floor/Wall'\n",
    "forcedair_heating = df_heat_single.heatingorsystemdesc == 'Forced air'\n",
    "solar_heating = df_heat_single.heatingorsystemdesc == 'Solar'"
   ]
  },
  {
   "cell_type": "code",
   "execution_count": 19,
   "id": "99c4c45f",
   "metadata": {},
   "outputs": [
    {
     "data": {
      "text/plain": [
       "Central       20689\n",
       "Floor/Wall    12527\n",
       "Forced air      517\n",
       "Solar            85\n",
       "Name: heatingorsystemdesc, dtype: int64"
      ]
     },
     "execution_count": 19,
     "metadata": {},
     "output_type": "execute_result"
    }
   ],
   "source": [
    "df_big_heats = df_heat_single[central_heating | wallfloor_heating | forcedair_heating | solar_heating]\n",
    "df_big_heats.heatingorsystemdesc.value_counts()"
   ]
  },
  {
   "cell_type": "code",
   "execution_count": 20,
   "id": "ce462434",
   "metadata": {},
   "outputs": [
    {
     "data": {
      "text/plain": [
       "<AxesSubplot:xlabel='heatingorsystemdesc', ylabel='taxvaluedollarcnt'>"
      ]
     },
     "execution_count": 20,
     "metadata": {},
     "output_type": "execute_result"
    },
    {
     "data": {
      "image/png": "[encoded data removed]",
      "text/plain": [
       "<Figure size 432x288 with 1 Axes>"
      ]
     },
     "metadata": {
      "needs_background": "light"
     },
     "output_type": "display_data"
    }
   ],
   "source": [
    "sns.boxplot(data=df_big_heats, x='heatingorsystemdesc', y='taxvaluedollarcnt')"
   ]
  },
  {
   "cell_type": "code",
   "execution_count": 21,
   "id": "68e58b67",
   "metadata": {},
   "outputs": [
    {
     "data": {
      "text/plain": [
       "<AxesSubplot:xlabel='heatingorsystemdesc', ylabel='taxvaluedollarcnt'>"
      ]
     },
     "execution_count": 21,
     "metadata": {},
     "output_type": "execute_result"
    },
    {
     "data": {
      "image/png": "[encoded data removed]",
      "text/plain": [
       "<Figure size 432x288 with 1 Axes>"
      ]
     },
     "metadata": {
      "needs_background": "light"
     },
     "output_type": "display_data"
    }
   ],
   "source": [
    "q1, q3 = df_big_heats.taxvaluedollarcnt.quantile([.25, .75])\n",
    "sns.boxplot(data=df_big_heats[(df_big_heats.taxvaluedollarcnt > q1) & \n",
    "                              (df_big_heats.taxvaluedollarcnt < q3)], \n",
    "            x='heatingorsystemdesc', \n",
    "            y='taxvaluedollarcnt')"
   ]
  },
  {
   "cell_type": "code",
   "execution_count": 22,
   "id": "8d78c659",
   "metadata": {},
   "outputs": [],
   "source": [
    "Central = df_big_heats[df_big_heats.heatingorsystemdesc == 'Central']\n",
    "FloorWall = df_big_heats[df_big_heats.heatingorsystemdesc == 'Floor/Wall']\n",
    "Solar = df_big_heats[df_big_heats.heatingorsystemdesc == 'Solar']\n",
    "ForcedAir = df_big_heats[df_big_heats.heatingorsystemdesc == 'Forced air']"
   ]
  },
  {
   "cell_type": "markdown",
   "id": "9ab3247a",
   "metadata": {},
   "source": [
    "## Solar-heated homes are more valuable than all homes?\n",
    "$H_0$: Homes with solar heating are not statistically higher value than all homes.\n",
    "\n",
    "$H_a$: Homes with solar heating are statistically higher value than all homes."
   ]
  },
  {
   "cell_type": "code",
   "execution_count": 23,
   "id": "434003f1",
   "metadata": {},
   "outputs": [
    {
     "name": "stdout",
     "output_type": "stream",
     "text": [
      "We reject the null hypothesis with 95% confidence.\n"
     ]
    }
   ],
   "source": [
    "alpha = .05\n",
    "t, p = stats.mannwhitneyu(Solar.taxvaluedollarcnt, df_big_heats.taxvaluedollarcnt)\n",
    "\n",
    "if p < alpha and t > 0:\n",
    "    print('We reject the null hypothesis with 95% confidence.')\n",
    "else:\n",
    "    print('Results do not pass 95% confidence threshold.')"
   ]
  },
  {
   "cell_type": "markdown",
   "id": "b3d7ea20",
   "metadata": {},
   "source": [
    "## Central heating is more valuable than Floor/Wall heating?"
   ]
  },
  {
   "cell_type": "code",
   "execution_count": 24,
   "id": "709c0382",
   "metadata": {},
   "outputs": [
    {
     "name": "stdout",
     "output_type": "stream",
     "text": [
      "We reject the null hypothesis with 95% confidence.\n"
     ]
    }
   ],
   "source": [
    "alpha = .05\n",
    "t, p = stats.mannwhitneyu(Central.taxvaluedollarcnt, FloorWall.taxvaluedollarcnt)\n",
    "\n",
    "if p < alpha and t > 0:\n",
    "    print('We reject the null hypothesis with 95% confidence.')\n",
    "else:\n",
    "    print('Results do not pass 95% confidence threshold.')"
   ]
  },
  {
   "cell_type": "code",
   "execution_count": 25,
   "id": "193aebe2",
   "metadata": {},
   "outputs": [
    {
     "data": {
      "text/plain": [
       "(90009418.5, 0.0)"
      ]
     },
     "execution_count": 25,
     "metadata": {},
     "output_type": "execute_result"
    }
   ],
   "source": [
    "t,p"
   ]
  },
  {
   "cell_type": "markdown",
   "id": "3739a0d0",
   "metadata": {},
   "source": [
    "## Floor/Wall heating is more valuable than Forced Air heating?"
   ]
  },
  {
   "cell_type": "code",
   "execution_count": 26,
   "id": "e5f82389",
   "metadata": {},
   "outputs": [
    {
     "name": "stdout",
     "output_type": "stream",
     "text": [
      "We reject the null hypothesis with 95% confidence.\n"
     ]
    }
   ],
   "source": [
    "alpha = .05\n",
    "t, p = stats.mannwhitneyu(FloorWall.taxvaluedollarcnt, ForcedAir.taxvaluedollarcnt)\n",
    "\n",
    "if p < alpha and t > 0:\n",
    "    print('We reject the null hypothesis with 95% confidence.')\n",
    "else:\n",
    "    print('Results do not pass 95% confidence threshold.')"
   ]
  },
  {
   "cell_type": "code",
   "execution_count": 27,
   "id": "925956cf",
   "metadata": {},
   "outputs": [
    {
     "data": {
      "text/plain": [
       "(1662848.0, 6.02070671230912e-79)"
      ]
     },
     "execution_count": 27,
     "metadata": {},
     "output_type": "execute_result"
    }
   ],
   "source": [
    "t,p"
   ]
  },
  {
   "cell_type": "code",
   "execution_count": null,
   "id": "92d59cf0",
   "metadata": {},
   "outputs": [],
   "source": []
  }
 ],
 "metadata": {
  "kernelspec": {
   "display_name": "Python 3 (ipykernel)",
   "language": "python",
   "name": "python3"
  },
  "language_info": {
   "codemirror_mode": {
    "name": "ipython",
    "version": 3
   },
   "file_extension": ".py",
   "mimetype": "text/x-python",
   "name": "python",
   "nbconvert_exporter": "python",
   "pygments_lexer": "ipython3",
   "version": "3.8.8"
  }
 },
 "nbformat": 4,
 "nbformat_minor": 5
}
